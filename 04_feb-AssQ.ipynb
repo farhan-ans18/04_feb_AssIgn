{
 "cells": [
  {
   "cell_type": "code",
   "execution_count": 3,
   "id": "c140e611-735d-4316-b715-8b0a5455628f",
   "metadata": {},
   "outputs": [
    {
     "data": {
      "text/plain": [
       "[('Virat Kohli', 24936),\n",
       " ('Jack Kallis', 25534),\n",
       " ('Ricky Ponting', 27483),\n",
       " ('Sachin Tendulkar', 34357)]"
      ]
     },
     "execution_count": 3,
     "metadata": {},
     "output_type": "execute_result"
    }
   ],
   "source": [
    "#Q1. program to sort the given list of tuples based on integer value using a lambda function.\n",
    "\n",
    "#Ans : -\n",
    "\n",
    "players = [('Sachin Tendulkar', 34357), ('Ricky Ponting', 27483), ('Jack Kallis', 25534), ('Virat Kohli', 24936)]\n",
    "\n",
    "players.sort(key = lambda x : x[1])\n",
    "\n",
    "players"
   ]
  },
  {
   "cell_type": "code",
   "execution_count": 38,
   "id": "0027f4d5-992c-4af8-b467-a375be2787c9",
   "metadata": {},
   "outputs": [
    {
     "name": "stdout",
     "output_type": "stream",
     "text": [
      "[1, 4, 9, 16, 25, 36, 49, 64, 81, 100]\n"
     ]
    }
   ],
   "source": [
    "#Q2.find the squares of all the numbers in the given list of integers using lambda and map functions.\n",
    "\n",
    "#Ans : -\n",
    "\n",
    "lst = [1, 2, 3, 4, 5, 6, 7, 8, 9, 10]\n",
    "\n",
    "squared_lst = list(map(lambda x: x**2, lst))\n",
    "\n",
    "print(squared_lst)\n"
   ]
  },
  {
   "cell_type": "code",
   "execution_count": 48,
   "id": "6555e027-3d74-4724-9545-da5e2a6537c5",
   "metadata": {},
   "outputs": [
    {
     "name": "stdout",
     "output_type": "stream",
     "text": [
      "('1', '2', '3', '4', '5', '6', '7', '8', '9', '10')\n"
     ]
    }
   ],
   "source": [
    "#Q3.To convert the given list of integers into a tuple of strings.Use map and lambda functions.\n",
    "\n",
    "#Ans:\n",
    "\n",
    "lst =  [1, 2, 3, 4, 5, 6, 7, 8, 9, 10]\n",
    "\n",
    "string_tuple = tuple(map(lambda x :str(x) , lst))\n",
    "print(string_tuple)"
   ]
  },
  {
   "cell_type": "code",
   "execution_count": 53,
   "id": "04d44e6a-a653-4b91-8d51-e3641f8c976d",
   "metadata": {},
   "outputs": [
    {
     "data": {
      "text/plain": [
       "15511210043330985984000000"
      ]
     },
     "execution_count": 53,
     "metadata": {},
     "output_type": "execute_result"
    }
   ],
   "source": [
    "#Q4.using reduce function to compute the product of a list containing numbers from 1 to 25.\n",
    "\n",
    "#Ans : -\n",
    "\n",
    "from functools import reduce\n",
    "\n",
    "lst = list(range(1,26))\n",
    "\n",
    "reduce(lambda x,y : x*y, lst)"
   ]
  },
  {
   "cell_type": "code",
   "execution_count": 55,
   "id": "7c06df58-186a-4b61-bee0-7f2b452239bb",
   "metadata": {},
   "outputs": [
    {
     "data": {
      "text/plain": [
       "[6, 60, 90, 120]"
      ]
     },
     "execution_count": 55,
     "metadata": {},
     "output_type": "execute_result"
    }
   ],
   "source": [
    "#Q5.To filter the numbers in a given list that are divisible by 2 and 3 using the filter function.\n",
    "\n",
    "#Ans:-\n",
    "\n",
    "lst = [2, 3, 6, 9, 27, 60, 90, 120, 55, 46]\n",
    "\n",
    "list(filter(lambda x : x%2==0 and x%3==0 , lst))"
   ]
  },
  {
   "cell_type": "code",
   "execution_count": 62,
   "id": "cc2eb3e4-404e-4118-ad72-4d0a948429ce",
   "metadata": {},
   "outputs": [
    {
     "data": {
      "text/plain": [
       "['php', 'aba', 'radar', 'level']"
      ]
     },
     "execution_count": 62,
     "metadata": {},
     "output_type": "execute_result"
    }
   ],
   "source": [
    "#Q6. to find palindromes in the given list of strings using lambda and filter function.\n",
    "\n",
    "#Ans:-\n",
    "\n",
    "string = ['python', 'php', 'aba', 'radar', 'level']\n",
    "\n",
    "list(filter(lambda x : x ==x[::-1] , string))"
   ]
  },
  {
   "cell_type": "code",
   "execution_count": null,
   "id": "a8dfe4d1-0ad1-4118-ab41-b90c7b82c3e8",
   "metadata": {},
   "outputs": [],
   "source": []
  }
 ],
 "metadata": {
  "kernelspec": {
   "display_name": "Python 3 (ipykernel)",
   "language": "python",
   "name": "python3"
  },
  "language_info": {
   "codemirror_mode": {
    "name": "ipython",
    "version": 3
   },
   "file_extension": ".py",
   "mimetype": "text/x-python",
   "name": "python",
   "nbconvert_exporter": "python",
   "pygments_lexer": "ipython3",
   "version": "3.10.8"
  }
 },
 "nbformat": 4,
 "nbformat_minor": 5
}
